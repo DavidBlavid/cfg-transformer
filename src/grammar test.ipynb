{
 "cells": [
  {
   "cell_type": "code",
   "execution_count": 1,
   "metadata": {},
   "outputs": [],
   "source": [
    "from nltk_utils.utils import *\n",
    "from nltk_utils.pcfg.generate import *\n",
    "from nltk_utils.graphs import *\n",
    "\n",
    "from nltk_utils.datasets import *"
   ]
  },
  {
   "cell_type": "code",
   "execution_count": 7,
   "metadata": {},
   "outputs": [
    {
     "name": "stdout",
     "output_type": "stream",
     "text": [
      "S -> A [1.0]\n",
      "A -> \"b\" [0.4888331855590191]\n",
      "A -> \"d\" [0.19662896656044263]\n",
      "A -> B B [0.23406296108115754]\n",
      "A -> C B [0.0804748867993808]\n",
      "B -> \"b\" [0.1560159738739984]\n",
      "B -> A A [0.26480396884313673]\n",
      "B -> C C [0.5791800572828649]\n",
      "C -> B B [0.4255901150053242]\n",
      "C -> C A [0.16394088065811996]\n",
      "C -> C C [0.41046900433655586]\n",
      "Graph:              defaultdict(<class 'list'>, {'S': ['A'], 'A': ['B', 'B', 'C', 'B'], 'B': ['A', 'A', 'C', 'C'], 'C': ['B', 'B', 'C', 'A', 'C', 'C']})\n",
      "Reachable states:   ['A', 'B', 'C', 'S']\n",
      "Unreachable states: []\n",
      "Unproductive Rules: []\n",
      "Absorbing states:   ['A', 'B']\n",
      "Is Transient:       True\n"
     ]
    }
   ],
   "source": [
    "n_terminals = 5\n",
    "n_nonterminals = 3\n",
    "n_rules = 10\n",
    "\n",
    "terminals = generate_terminals(n_terminals)\n",
    "nonterminals = generate_nonterminals(n_nonterminals)\n",
    "\n",
    "grammar = generate_pcfg(terminals, nonterminals, n_rules, 0.4)\n",
    "\n",
    "print(grammar)\n",
    "print_graph(grammar)"
   ]
  },
  {
   "cell_type": "code",
   "execution_count": 33,
   "metadata": {},
   "outputs": [
    {
     "name": "stdout",
     "output_type": "stream",
     "text": [
      "ad\n",
      "de\n",
      "dd\n",
      "da\n",
      "ad\n"
     ]
    }
   ],
   "source": [
    "# generate random sentences from the grammar\n",
    "n_sentences = 5\n",
    "for i in range(n_sentences):\n",
    "    sentence = generate_sentence_pcfg(grammar, '')\n",
    "    print(sentence)"
   ]
  },
  {
   "cell_type": "code",
   "execution_count": 19,
   "metadata": {},
   "outputs": [
    {
     "name": "stderr",
     "output_type": "stream",
     "text": [
      "100%|██████████| 100/100 [00:45<00:00,  2.21it/s]\n"
     ]
    }
   ],
   "source": [
    "generate_documents_pcfg(grammar, n_documents=100, n_sentences=1000, token_join_char=' ', sentence_join_char='.')"
   ]
  }
 ],
 "metadata": {
  "kernelspec": {
   "display_name": "Python 3",
   "language": "python",
   "name": "python3"
  },
  "language_info": {
   "codemirror_mode": {
    "name": "ipython",
    "version": 3
   },
   "file_extension": ".py",
   "mimetype": "text/x-python",
   "name": "python",
   "nbconvert_exporter": "python",
   "pygments_lexer": "ipython3",
   "version": "3.12.1"
  }
 },
 "nbformat": 4,
 "nbformat_minor": 2
}
