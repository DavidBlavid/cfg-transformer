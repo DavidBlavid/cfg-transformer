{
 "cells": [
  {
   "cell_type": "code",
   "execution_count": 1,
   "metadata": {},
   "outputs": [],
   "source": [
    "from nltk_utils.utils import *\n",
    "from nltk_utils.pcfg.generate import *\n",
    "from nltk_utils.graphs import *\n",
    "\n",
    "from nltk_utils.datasets import *"
   ]
  },
  {
   "cell_type": "code",
   "execution_count": 13,
   "metadata": {},
   "outputs": [
    {
     "name": "stdout",
     "output_type": "stream",
     "text": [
      "S -> A [1.0]\n",
      "A -> \"j\" [0.13277202022675738]\n",
      "A -> E B [0.8672279797732426]\n",
      "B -> \"e\" [0.0005173177643883643]\n",
      "B -> \"j\" [0.0006038876543155158]\n",
      "B -> A \"e\" [0.00016646398012363194]\n",
      "B -> B \"b\" [0.0018564142577462987]\n",
      "B -> C [0.7077018574955267]\n",
      "B -> E [0.28915405884789946]\n",
      "C -> \"d\" [0.5693675924054257]\n",
      "C -> A \"c\" [0.020729549895488364]\n",
      "C -> B [0.01838927739532518]\n",
      "C -> C \"d\" [0.3915135803037608]\n",
      "D -> \"d\" [0.005803723959340701]\n",
      "D -> B \"g\" [0.05298794674038382]\n",
      "D -> C \"b\" [0.6856249935126169]\n",
      "D -> D \"a\" [0.07092171765332726]\n",
      "D -> D E [0.18466161813433146]\n",
      "E -> B [0.2730025155721665]\n",
      "E -> C B [0.3559891631132083]\n",
      "E -> C D [0.3710083213146253]\n",
      "True\n"
     ]
    }
   ],
   "source": [
    "n_terminals = 10\n",
    "n_nonterminals = 5\n",
    "n_rules = 20\n",
    "\n",
    "terminals = generate_terminals(n_terminals)\n",
    "nonterminals = generate_nonterminals(n_nonterminals)\n",
    "\n",
    "grammar = generate_pcfg(terminals, nonterminals, n_rules)\n",
    "print(grammar)\n",
    "\n",
    "print(is_transient(grammar))"
   ]
  },
  {
   "cell_type": "code",
   "execution_count": 19,
   "metadata": {},
   "outputs": [
    {
     "name": "stdout",
     "output_type": "stream",
     "text": [
      "d d d\n",
      "d d d d b a\n",
      "d d d d\n",
      "j c d d d d d\n",
      "d d d d d\n",
      "d d d d b d\n",
      "d d d d b a d\n",
      "d d d b a d d\n",
      "d d d b d d d d\n",
      "d d\n"
     ]
    }
   ],
   "source": [
    "REPETITIONS = 10\n",
    "\n",
    "for i in range(REPETITIONS):\n",
    "    print(generate_sentence_pcfg(grammar, join_char=''))"
   ]
  },
  {
   "cell_type": "code",
   "execution_count": 12,
   "metadata": {},
   "outputs": [
    {
     "name": "stderr",
     "output_type": "stream",
     "text": [
      "100%|██████████| 100/100 [00:30<00:00,  3.33it/s]\n"
     ]
    }
   ],
   "source": [
    "generate_documents_pcfg(grammar, n_documents=100, n_sentences=1000, token_join_char='', sentence_join_char='\\n')"
   ]
  }
 ],
 "metadata": {
  "kernelspec": {
   "display_name": "Python 3",
   "language": "python",
   "name": "python3"
  },
  "language_info": {
   "codemirror_mode": {
    "name": "ipython",
    "version": 3
   },
   "file_extension": ".py",
   "mimetype": "text/x-python",
   "name": "python",
   "nbconvert_exporter": "python",
   "pygments_lexer": "ipython3",
   "version": "3.12.1"
  }
 },
 "nbformat": 4,
 "nbformat_minor": 2
}
